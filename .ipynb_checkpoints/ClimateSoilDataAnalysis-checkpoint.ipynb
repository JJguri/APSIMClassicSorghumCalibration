{
 "cells": [
  {
   "cell_type": "code",
   "execution_count": 1,
   "metadata": {},
   "outputs": [],
   "source": [
    "#####################################################################################################################\n",
    "#Developed by Jonathan Ojeda 22/1/2021 QAAFI UQ\n",
    "# Code functionalities:\n",
    "# Read names from files and put it in  dataframe\n",
    "#####################################################################################################################"
   ]
  },
  {
   "cell_type": "code",
   "execution_count": 2,
   "metadata": {},
   "outputs": [
    {
     "name": "stderr",
     "output_type": "stream",
     "text": [
      "<ipython-input-2-f27bbb6f6f6b>:28: MatplotlibDeprecationWarning: \n",
      "The mpl_toolkits.axes_grid module was deprecated in Matplotlib 2.1 and will be removed two minor releases later. Use mpl_toolkits.axes_grid1 and mpl_toolkits.axisartist, which provide the same functionality instead.\n",
      "  from mpl_toolkits.axes_grid.inset_locator import (inset_axes, InsetPosition,\n"
     ]
    },
    {
     "data": {
      "text/html": [
       "<style>.container { width:100% !important; }</style>"
      ],
      "text/plain": [
       "<IPython.core.display.HTML object>"
      ]
     },
     "metadata": {},
     "output_type": "display_data"
    }
   ],
   "source": [
    "#import libraries\n",
    "import random as rd\n",
    "import os\n",
    "import sqlite3\n",
    "import datetime\n",
    "import pandas as pd\n",
    "import numpy as np\n",
    "import matplotlib.pyplot as plt\n",
    "%matplotlib inline\n",
    "import dateutil\n",
    "import pylab as py\n",
    "import seaborn as sns\n",
    "import scipy \n",
    "from scipy import stats\n",
    "import sklearn.metrics\n",
    "from numpy  import array\n",
    "import glob\n",
    "import functools\n",
    "from functools import reduce\n",
    "import matplotlib.ticker as ticker\n",
    "import cartopy.io.shapereader as shpreader\n",
    "import xarray as xr\n",
    "import cartopy.crs as ccrs\n",
    "import cartopy.feature as cfeature\n",
    "import matplotlib.ticker as mticker\n",
    "from cartopy.mpl.gridliner import LONGITUDE_FORMATTER, LATITUDE_FORMATTER\n",
    "import matplotlib as mpl\n",
    "from mpl_toolkits.axes_grid.inset_locator import (inset_axes, InsetPosition,mark_inset)\n",
    "from sklearn.cluster import KMeans\n",
    "\n",
    "#Extend screen\n",
    "from IPython.core.display import display, HTML\n",
    "display(HTML(\"<style>.container { width:100% !important; }</style>\"))"
   ]
  },
  {
   "cell_type": "code",
   "execution_count": 6,
   "metadata": {},
   "outputs": [],
   "source": [
    "path = r'C:\\Users\\uqjojeda\\Nextcloud\\PURTERRA-A0131\\2020\\Validation\\Kent data\\climate'\n",
    "table_list = []\n",
    "\n",
    "for filename in os.listdir(path):\n",
    "    if filename.endswith('.wth'):\n",
    "        table_list.append(filename)"
   ]
  },
  {
   "cell_type": "code",
   "execution_count": 7,
   "metadata": {},
   "outputs": [
    {
     "data": {
      "text/plain": [
       "['AmesIA_42.06_-93.68.wth',\n",
       " 'BooneIA_42.02_-93.78.wth',\n",
       " 'CharitonIA_40.97_-93.42.wth',\n",
       " 'CollegeStationTX_30.62_-96.36.wth',\n",
       " 'ColumbusMO_38.88_-92.2.wth',\n",
       " 'CorpusChristiTX_27.78_-97.56.wth',\n",
       " 'LexingtonKY_38.08_-84.55.wth',\n",
       " 'ManhattanKS_39.19_-96.58.wth',\n",
       " 'RaymondMS_32.21_-90.51.wth',\n",
       " 'RoperNC_35.87_-76.66.wth',\n",
       " 'WallaceNC_34.76_-78.1.wth',\n",
       " 'WeslacoTX_26.22_-98.23.wth']"
      ]
     },
     "execution_count": 7,
     "metadata": {},
     "output_type": "execute_result"
    }
   ],
   "source": [
    "table_list"
   ]
  },
  {
   "cell_type": "code",
   "execution_count": 29,
   "metadata": {},
   "outputs": [],
   "source": [
    "data = pd.DataFrame(table_list, columns=['all'])\n",
    "data['loc'] = data['all'].str.split('_')\n",
    "data\n",
    "#data.to_csv(r'C:\\Users\\uqjojeda\\Nextcloud\\PURTERRA-A0131\\2020\\Validation\\Python\\locs.csv')"
   ]
  }
 ],
 "metadata": {
  "kernelspec": {
   "display_name": "Python 3",
   "language": "python",
   "name": "python3"
  },
  "language_info": {
   "codemirror_mode": {
    "name": "ipython",
    "version": 3
   },
   "file_extension": ".py",
   "mimetype": "text/x-python",
   "name": "python",
   "nbconvert_exporter": "python",
   "pygments_lexer": "ipython3",
   "version": "3.8.5"
  }
 },
 "nbformat": 4,
 "nbformat_minor": 4
}
