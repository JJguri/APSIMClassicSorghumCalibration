{
 "cells": [
  {
   "cell_type": "code",
   "execution_count": 1,
   "metadata": {},
   "outputs": [],
   "source": [
    "#####################################################################################################################\n",
    "#Developed by Jonathan Ojeda 13/2/2021 QAAFI UQ\n",
    "# Code functionalities:\n",
    "# Read data from a xml., apsim., txt files etc.\n",
    "# Get specif strings from rows of the dataframe\n",
    "#####################################################################################################################"
   ]
  },
  {
   "cell_type": "code",
   "execution_count": 45,
   "metadata": {},
   "outputs": [
    {
     "name": "stderr",
     "output_type": "stream",
     "text": [
      "b'Skipping line 7: expected 1 fields, saw 2\\nSkipping line 144: expected 1 fields, saw 2\\nSkipping line 189: expected 1 fields, saw 3\\nSkipping line 199: expected 1 fields, saw 2\\nSkipping line 231: expected 1 fields, saw 2\\nSkipping line 293: expected 1 fields, saw 2\\nSkipping line 315: expected 1 fields, saw 2\\nSkipping line 354: expected 1 fields, saw 2\\nSkipping line 356: expected 1 fields, saw 2\\nSkipping line 362: expected 1 fields, saw 3\\nSkipping line 363: expected 1 fields, saw 2\\nSkipping line 364: expected 1 fields, saw 3\\nSkipping line 378: expected 1 fields, saw 2\\nSkipping line 382: expected 1 fields, saw 2\\nSkipping line 389: expected 1 fields, saw 3\\nSkipping line 401: expected 1 fields, saw 2\\nSkipping line 402: expected 1 fields, saw 3\\nSkipping line 403: expected 1 fields, saw 3\\nSkipping line 449: expected 1 fields, saw 2\\nSkipping line 523: expected 1 fields, saw 2\\nSkipping line 527: expected 1 fields, saw 2\\nSkipping line 530: expected 1 fields, saw 2\\nSkipping line 537: expected 1 fields, saw 2\\n'\n"
     ]
    },
    {
     "data": {
      "text/html": [
       "<div>\n",
       "<style scoped>\n",
       "    .dataframe tbody tr th:only-of-type {\n",
       "        vertical-align: middle;\n",
       "    }\n",
       "\n",
       "    .dataframe tbody tr th {\n",
       "        vertical-align: top;\n",
       "    }\n",
       "\n",
       "    .dataframe thead th {\n",
       "        text-align: right;\n",
       "    }\n",
       "</style>\n",
       "<table border=\"1\" class=\"dataframe\">\n",
       "  <thead>\n",
       "    <tr style=\"text-align: right;\">\n",
       "      <th></th>\n",
       "      <th>&lt;Type name=\"lentil\"&gt;</th>\n",
       "    </tr>\n",
       "  </thead>\n",
       "  <tbody>\n",
       "    <tr>\n",
       "      <th>537</th>\n",
       "      <td>&lt;digger cultivar=\"yes\"&gt;</td>\n",
       "    </tr>\n",
       "    <tr>\n",
       "      <th>559</th>\n",
       "      <td>&lt;laird cultivar=\"yes\"&gt;</td>\n",
       "    </tr>\n",
       "    <tr>\n",
       "      <th>580</th>\n",
       "      <td>&lt;northfield cultivar=\"yes\"&gt;</td>\n",
       "    </tr>\n",
       "    <tr>\n",
       "      <th>601</th>\n",
       "      <td>&lt;ill6002 cultivar=\"yes\"&gt;</td>\n",
       "    </tr>\n",
       "    <tr>\n",
       "      <th>622</th>\n",
       "      <td>&lt;ill6109 cultivar=\"yes\"&gt;</td>\n",
       "    </tr>\n",
       "    <tr>\n",
       "      <th>643</th>\n",
       "      <td>&lt;nugget_base cultivar=\"yes\"&gt;</td>\n",
       "    </tr>\n",
       "    <tr>\n",
       "      <th>664</th>\n",
       "      <td>&lt;nugget cultivar=\"yes\"&gt;</td>\n",
       "    </tr>\n",
       "    <tr>\n",
       "      <th>670</th>\n",
       "      <td>&lt;bolt cultivar=\"yes\"&gt;</td>\n",
       "    </tr>\n",
       "    <tr>\n",
       "      <th>675</th>\n",
       "      <td>&lt;hallmarkxt cultivar=\"yes\"&gt;</td>\n",
       "    </tr>\n",
       "    <tr>\n",
       "      <th>681</th>\n",
       "      <td>&lt;blitz cultivar=\"yes\"&gt;</td>\n",
       "    </tr>\n",
       "    <tr>\n",
       "      <th>686</th>\n",
       "      <td>&lt;jumbo2 cultivar=\"yes\"&gt;</td>\n",
       "    </tr>\n",
       "    <tr>\n",
       "      <th>691</th>\n",
       "      <td>&lt;ace cultivar=\"yes\"&gt;</td>\n",
       "    </tr>\n",
       "    <tr>\n",
       "      <th>697</th>\n",
       "      <td>&lt;greenfield cultivar=\"yes\"&gt;</td>\n",
       "    </tr>\n",
       "    <tr>\n",
       "      <th>706</th>\n",
       "      <td>&lt;simal cultivar=\"yes\"&gt;</td>\n",
       "    </tr>\n",
       "  </tbody>\n",
       "</table>\n",
       "</div>"
      ],
      "text/plain": [
       "                 <Type name=\"lentil\">\n",
       "537           <digger cultivar=\"yes\">\n",
       "559            <laird cultivar=\"yes\">\n",
       "580       <northfield cultivar=\"yes\">\n",
       "601          <ill6002 cultivar=\"yes\">\n",
       "622          <ill6109 cultivar=\"yes\">\n",
       "643      <nugget_base cultivar=\"yes\">\n",
       "664           <nugget cultivar=\"yes\">\n",
       "670             <bolt cultivar=\"yes\">\n",
       "675       <hallmarkxt cultivar=\"yes\">\n",
       "681            <blitz cultivar=\"yes\">\n",
       "686           <jumbo2 cultivar=\"yes\">\n",
       "691              <ace cultivar=\"yes\">\n",
       "697       <greenfield cultivar=\"yes\">\n",
       "706            <simal cultivar=\"yes\">"
      ]
     },
     "execution_count": 45,
     "metadata": {},
     "output_type": "execute_result"
    }
   ],
   "source": [
    "import pandas as pd\n",
    "df = pd.read_csv(r'C:\\Users\\uqjojeda\\Dropbox\\CropPhen\\XML\\Lentil.XML', error_bad_lines=False)\n",
    "a=df[df['<Type name=\"lentil\">'].str.contains('cultivar=\"yes')]\n",
    "a\n",
    "#a.to_csv(r'C:\\Users\\uqjojeda\\Dropbox\\CropPhen\\XML\\df.csv')"
   ]
  }
 ],
 "metadata": {
  "kernelspec": {
   "display_name": "Python 3",
   "language": "python",
   "name": "python3"
  },
  "language_info": {
   "codemirror_mode": {
    "name": "ipython",
    "version": 3
   },
   "file_extension": ".py",
   "mimetype": "text/x-python",
   "name": "python",
   "nbconvert_exporter": "python",
   "pygments_lexer": "ipython3",
   "version": "3.8.5"
  }
 },
 "nbformat": 4,
 "nbformat_minor": 4
}
